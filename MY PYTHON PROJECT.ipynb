{
 "cells": [
  {
   "cell_type": "code",
   "execution_count": 17,
   "metadata": {},
   "outputs": [],
   "source": [
    "# To view the entries saved in the database, I recommend you download DBbrowser. "
   ]
  },
  {
   "cell_type": "code",
   "execution_count": 1,
   "metadata": {},
   "outputs": [
    {
     "name": "stdout",
     "output_type": "stream",
     "text": [
      " WELCOME TO CHARLIE'S MALL\n"
     ]
    }
   ],
   "source": [
    "import sqlite3\n",
    "import pandas as pd\n",
    "import numpy as np\n",
    "print(\" WELCOME TO CHARLIE'S MALL\")"
   ]
  },
  {
   "cell_type": "code",
   "execution_count": null,
   "metadata": {},
   "outputs": [],
   "source": [
    "# Creating a unique login for the admin and two store attendants\n",
    "import random\n",
    "admin = random.randint(20000, 99999)\n",
    "pwd1 =  random.randint(3580, 9999) \n",
    "pwd2 = random.randint(6798, 9999)\n",
    "\n",
    "Logins={\"Admin\": admin, \"Charles\": pwd1, \"Salmah\": pwd2}\n",
    "\n",
    "print('Admin Password is :', admin)\n",
    "print('User1 password is :', pwd1)\n",
    "print('User2 password is :', pwd2)"
   ]
  },
  {
   "cell_type": "code",
   "execution_count": 2,
   "metadata": {},
   "outputs": [
    {
     "name": "stdout",
     "output_type": "stream",
     "text": [
      "Opened Database Successfully\n"
     ]
    }
   ],
   "source": [
    "# Run this cell whenever you want to start using the program to create a connection to the database.\n",
    "conn= sqlite3.connect('Project_database.db')\n",
    "c= conn.cursor()\n",
    "print('Opened Database Successfully')"
   ]
  },
  {
   "cell_type": "code",
   "execution_count": 3,
   "metadata": {},
   "outputs": [
    {
     "data": {
      "text/plain": [
       "<sqlite3.Cursor at 0xc17278e810>"
      ]
     },
     "execution_count": 3,
     "metadata": {},
     "output_type": "execute_result"
    }
   ],
   "source": [
    "# This code creates a table for storing details of provisions supplied to the mall in our database\n",
    "c.execute('''CREATE TABLE PROVISION \n",
    "(DATE TEXT, TRANS TEXT, ITEM TEXT, QUANTITY REAL, PRICE REAL)''')"
   ]
  },
  {
   "cell_type": "code",
   "execution_count": 4,
   "metadata": {},
   "outputs": [
    {
     "data": {
      "text/plain": [
       "<sqlite3.Cursor at 0xc17278e810>"
      ]
     },
     "execution_count": 4,
     "metadata": {},
     "output_type": "execute_result"
    }
   ],
   "source": [
    "# This code creates a table for storing details of cosmetics supplied to the mall in our database\n",
    "c.execute('''CREATE TABLE COSMETICS \n",
    "(DATE TEXT, TRANS TEXT, ITEM TEXT, QUANTITY INT, PRICE REAL)''')"
   ]
  },
  {
   "cell_type": "code",
   "execution_count": 5,
   "metadata": {},
   "outputs": [
    {
     "data": {
      "text/plain": [
       "<sqlite3.Cursor at 0xc17278e810>"
      ]
     },
     "execution_count": 5,
     "metadata": {},
     "output_type": "execute_result"
    }
   ],
   "source": [
    "# This code creates a table for storing details of sales made in our database\n",
    "c.execute('''CREATE TABLE SALES \n",
    "(DATE TEXT, TRANS TEXT, ITEM TEXT, QUANTITY INT, UNIT_PRICE REAL, COST REAL)''')"
   ]
  },
  {
   "cell_type": "code",
   "execution_count": 6,
   "metadata": {},
   "outputs": [
    {
     "data": {
      "text/plain": [
       "<sqlite3.Cursor at 0xc17278e810>"
      ]
     },
     "execution_count": 6,
     "metadata": {},
     "output_type": "execute_result"
    }
   ],
   "source": [
    "# This code creates a table for storing details of cash records in our database\n",
    "c.execute('''CREATE TABLE CASH_RECORD \n",
    "(DATE TEXT, ID INT PRIMARY KEY, TOTAL REAL, DISCOUNT REAL, NEW_TOTAL REAL)''')"
   ]
  },
  {
   "cell_type": "code",
   "execution_count": 7,
   "metadata": {},
   "outputs": [],
   "source": [
    "# Function to take record of supplies made to the shop.\n",
    "def stock_(*args):\n",
    "    prov_store =[]\n",
    "    cosm_store = []\n",
    "    count=1\n",
    "    a= input(\"Select Category : \")\n",
    "    if (a == 'Provision'):\n",
    "        d = input(\"Please Enter Today's date : \")\n",
    "        z = int(input(\"how many items \"))\n",
    "        while count <= z:\n",
    "            print(\"Supply Item  \", count)\n",
    "            item = input(\"Item Name : \")\n",
    "            qty = int(input(\"Item quantity : \"))\n",
    "            unit_price=input('Unit Price : ')\n",
    "            prov_store= (d, 'SUPPLY', item, qty, unit_price)\n",
    "            c.execute('INSERT INTO PROVISION VALUES (?,?,?,?,?)', prov_store)\n",
    "            conn.commit()\n",
    "            count=count+1\n",
    "        #print(prov_store)\n",
    "    elif (a == 'Cosmetics'):\n",
    "        d = input(\"Please Enter Today's date : \")\n",
    "        z = int(input(\"how many items \"))\n",
    "        while count <= z:\n",
    "            print(\"Supply Item  \", count)\n",
    "            item = input(\"Item Name : \")\n",
    "            qty = int(input(\"Item quantity : \"))\n",
    "            unit_price=input('Unit Price : ')\n",
    "            cosm_store= (d, 'SUPPLY', item, qty, unit_price)\n",
    "            c.execute('INSERT INTO COSMETICS VALUES (?,?,?,?,?)', cosm_store)\n",
    "            conn.commit()\n",
    "            count=count+1\n",
    "        #print(cosm_store)\n",
    "    else:\n",
    "        print(\"Please Enter Correct Category!\")\n",
    "\n",
    "# This function enables the admin check inventory for a particular product\n",
    "def Inventory():\n",
    "    x= input('Select Category : ')\n",
    "    if x== 'Provision':\n",
    "        D = input('Enter Item Decsription : ')\n",
    "        t= (D,)\n",
    "        c.execute('SELECT * FROM PROVISION WHERE ITEM= ?', t )\n",
    "        print(c.fetchall())\n",
    "        \n",
    "    elif x== 'Cosmetics':\n",
    "        D = input('Enter Item Decsription : ')\n",
    "        t= (D,)\n",
    "        c.execute('SELECT * FROM COSMETICS WHERE ITEM= ?', t )\n",
    "        print(c.fetchall())\n",
    "      \n",
    "    else:\n",
    "        print('Unrecognized Category! ')\n",
    "        \n",
    "# This function is to be used by the store attendant to bill the customer according to goods in his/her cart\n",
    "def Billing():\n",
    "    import pandas as pd\n",
    "    global receipt\n",
    "    f = input('Please Enter Todays Date :  ')\n",
    "    K = input('Enter Transaction ID : ')\n",
    "    z= int(input('Please Enter Number of Purchase Items : '))\n",
    "    count=1\n",
    "    total=0\n",
    "    Cart = []\n",
    "    Bag = {}\n",
    "    Cash = []\n",
    "    while count <=z:\n",
    "        name = (input(\"Enter Product Description : \"))\n",
    "        qty = int(input(\"Please Enter Purchase Quantity : \"))\n",
    "        unit_price=int(input(\"Enter unit price : \"))\n",
    "        cost = unit_price*qty\n",
    "        Cart = (f, 'PURCHASE', name, qty, unit_price, cost)\n",
    "        c.execute('INSERT INTO SALES VALUES (?,?,?,?,?,?)', Cart)\n",
    "        conn.commit()\n",
    "        Bag[name] = list((qty, unit_price, cost))\n",
    "        total+=cost\n",
    "        count+=1\n",
    "    #return Cart\n",
    "    #print(\"Items bought are \", Cart)\n",
    "    print(\"Total amount =\", total, \"Naira\")\n",
    "    if total >= 10000:\n",
    "        Discount= 0.1*total\n",
    "        new_total= total-Discount\n",
    "        Cash=(f, K, total, Discount, new_total)\n",
    "        c.execute('INSERT INTO CASH_RECORD VALUES (?,?,?,?,?)', Cash)\n",
    "        conn.commit()\n",
    "        print('Discount =',Discount, 'Naira')\n",
    "        print('Total Payment Due= ',new_total, 'Naira')\n",
    "    else:\n",
    "        Discount= 0.05*total\n",
    "        new_total= total-Discount\n",
    "        Cash=(f, K, total, Discount, new_total)\n",
    "        c.execute('INSERT INTO CASH_RECORD VALUES (?,?,?,?,?)', Cash)\n",
    "        conn.commit()\n",
    "        print('Discount =',Discount, 'Naira')\n",
    "        print('Total Payment Due= ',new_total, 'Naira')\n",
    "# When you call the receipt function, it prints out a table containing information of purchase \n",
    "    receipt= pd.DataFrame(Bag, index=['Quantity', 'Unit Price', 'Cost'])"
   ]
  },
  {
   "cell_type": "code",
   "execution_count": 8,
   "metadata": {},
   "outputs": [],
   "source": [
    "# This function indicates the function an admin user can perform\n",
    "def admn_action():\n",
    "    x = input(\"Select Action \")\n",
    "    if (x == 'Supply'):\n",
    "        stock_()\n",
    "    elif (x == 'Inventory'):\n",
    "        Inventory()\n",
    "    elif (x == 'Sales'):\n",
    "        D = input('Enter Date : ')\n",
    "        t= (D,)\n",
    "        c.execute('SELECT * FROM SALES WHERE DATE= ?', t )\n",
    "        print(c.fetchall())    \n",
    "    elif (x == 'Cash'):\n",
    "        D = input('Enter Date : ')\n",
    "        t= (D,)\n",
    "        c.execute('SELECT * FROM CASH_RECORD WHERE DATE= ?', t )\n",
    "        print(c.fetchall())    \n",
    "    else:\n",
    "        print('KEYWORD ERROR: please ensure input is correct !')\n",
    "# This function indicates the actions a storekeeper is authorized to perform\n",
    "def user_action():\n",
    "    x = input(\"Select Action \")\n",
    "    if (x== 'billing'):\n",
    "        Billing()\n",
    "    elif (x == 'Inventory'):\n",
    "        Inventory()\n",
    "    elif (x == 'Sales'):\n",
    "        D = input('Enter Date : ')\n",
    "        t= (D,)\n",
    "        c.execute('SELECT * FROM SALES WHERE DATE= ?', t )\n",
    "        print(c.fetchall())    \n",
    "    else:\n",
    "        print('KEYWORD ERROR: please ensure input is correct !')"
   ]
  },
  {
   "cell_type": "code",
   "execution_count": 9,
   "metadata": {},
   "outputs": [],
   "source": [
    "# This function allows access to the system after the correct login details have been provided\n",
    "def login():\n",
    "    print(\"WELCOME TO CHARLIE'S MALL\")\n",
    "    U= str(input(\"Username : \"))\n",
    "    P= int(input(\"Password : \"))\n",
    "    admin = 29285\n",
    "    pwd1 = 5188\n",
    "    pwd2 = 8021\n",
    "    if (U == 'Admin') & (P== admin):\n",
    "        print('Welcome ', U)\n",
    "        admn_action()\n",
    "    elif (U == 'Charles') & (P== pwd1):\n",
    "        print('Welcome ', U)\n",
    "        user_action()\n",
    "    elif  (U == 'Salmah') & (P== pwd2):\n",
    "        print('Welcome ', U)\n",
    "        user_action()\n",
    "    else:\n",
    "        print('Incorrect username or password')"
   ]
  },
  {
   "cell_type": "code",
   "execution_count": 11,
   "metadata": {},
   "outputs": [],
   "source": [
    "# when you are through with the days work run this cell....ONLY WHEN YOU ARE CLOSED FOR THE DAY,\n",
    "#[delete the '#' from the line below] \n",
    "#conn.close()"
   ]
  },
  {
   "cell_type": "code",
   "execution_count": 12,
   "metadata": {},
   "outputs": [
    {
     "name": "stdout",
     "output_type": "stream",
     "text": [
      "WELCOME TO ECHEFU STORES!!\n",
      "Username : Admin\n",
      "Password : 29285\n",
      "Welcome  Admin\n",
      "Select Action Supply\n",
      "Select Category : Provision\n",
      "Please Enter Today's date : 2019-08-23\n",
      "how many items 4\n",
      "Supply Item   1\n",
      "Item Name : MILK\n",
      "Item quantity : 50\n",
      "Unit Price : 1300\n",
      "Supply Item   2\n",
      "Item Name : MILO\n",
      "Item quantity : 50\n",
      "Unit Price : 1500\n",
      "Supply Item   3\n",
      "Item Name : CORNFLAKES\n",
      "Item quantity : 30\n",
      "Unit Price : 1200\n",
      "Supply Item   4\n",
      "Item Name : GOLDENMORN\n",
      "Item quantity : 40\n",
      "Unit Price : 1250\n"
     ]
    }
   ],
   "source": [
    "login()"
   ]
  },
  {
   "cell_type": "code",
   "execution_count": 13,
   "metadata": {},
   "outputs": [
    {
     "name": "stdout",
     "output_type": "stream",
     "text": [
      "Select Category : Cosmetics\n",
      "Please Enter Today's date : 2019-08-23\n",
      "how many items 3\n",
      "Supply Item   1\n",
      "Item Name : DETERGENT\n",
      "Item quantity : 20\n",
      "Unit Price : 600\n",
      "Supply Item   2\n",
      "Item Name : JIK\n",
      "Item quantity : 35\n",
      "Unit Price : 800\n",
      "Supply Item   3\n",
      "Item Name : LUX SOAP\n",
      "Item quantity : 25\n",
      "Unit Price : 450\n"
     ]
    }
   ],
   "source": [
    "stock_()"
   ]
  },
  {
   "cell_type": "code",
   "execution_count": 14,
   "metadata": {},
   "outputs": [
    {
     "name": "stdout",
     "output_type": "stream",
     "text": [
      "Select Category : Cosmetics\n",
      "Enter Item Decsription : JIK\n",
      "[('2019-08-23', 'SUPPLY', 'JIK', 35, 800.0)]\n"
     ]
    }
   ],
   "source": [
    "Inventory()"
   ]
  },
  {
   "cell_type": "code",
   "execution_count": 15,
   "metadata": {},
   "outputs": [
    {
     "name": "stdout",
     "output_type": "stream",
     "text": [
      "Please Enter Todays Date :  2019-08-23\n",
      "Enter Transaction ID : 230001\n",
      "Please Enter Number of Purchase Items : 3\n",
      "Enter Product Description : MILK\n",
      "Please Enter Purchase Quantity : 2\n",
      "Enter unit price : 1800\n",
      "Enter Product Description : GOLDENMORN\n",
      "Please Enter Purchase Quantity : 3\n",
      "Enter unit price : 1900\n",
      "Enter Product Description : DETERGENT\n",
      "Please Enter Purchase Quantity : 4\n",
      "Enter unit price : 900\n",
      "Total amount = 12900 Naira\n",
      "Discount = 1290.0 Naira\n",
      "Total Payment Due=  11610.0 Naira\n"
     ]
    }
   ],
   "source": [
    "Billing()"
   ]
  },
  {
   "cell_type": "code",
   "execution_count": 16,
   "metadata": {},
   "outputs": [
    {
     "name": "stdout",
     "output_type": "stream",
     "text": [
      "Select Action Sales\n",
      "Enter Date : 2019-08-23\n",
      "[('2019-08-23', 'PURCHASE', 'MILK', 2, 1800.0, 3600.0), ('2019-08-23', 'PURCHASE', 'GOLDENMORN', 3, 1900.0, 5700.0), ('2019-08-23', 'PURCHASE', 'DETERGENT', 4, 900.0, 3600.0)]\n"
     ]
    }
   ],
   "source": [
    "user_action()"
   ]
  },
  {
   "cell_type": "code",
   "execution_count": null,
   "metadata": {},
   "outputs": [],
   "source": []
  }
 ],
 "metadata": {
  "kernelspec": {
   "display_name": "Python 3",
   "language": "python",
   "name": "python3"
  },
  "language_info": {
   "codemirror_mode": {
    "name": "ipython",
    "version": 3
   },
   "file_extension": ".py",
   "mimetype": "text/x-python",
   "name": "python",
   "nbconvert_exporter": "python",
   "pygments_lexer": "ipython3",
   "version": "3.6.4"
  }
 },
 "nbformat": 4,
 "nbformat_minor": 2
}
